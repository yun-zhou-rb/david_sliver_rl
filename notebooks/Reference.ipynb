{
 "cells": [
  {
   "cell_type": "markdown",
   "metadata": {},
   "source": [
    "## Markov Process "
   ]
  },
  {
   "cell_type": "markdown",
   "metadata": {},
   "source": [
    "A Markov Process (or Markov Chain) is a tuple $<S, P>$\n",
    "\n",
    "$S$: states\n",
    "\n",
    "$P$: state transition probability matrix\n",
    "\n",
    "$P_{ss'} = \\Bbb P[S_{t+1}=s'|S_t=s]$"
   ]
  },
  {
   "cell_type": "markdown",
   "metadata": {},
   "source": [
    "## Markov Reward Process"
   ]
  },
  {
   "cell_type": "markdown",
   "metadata": {},
   "source": [
    "A Markov Reward Process is a tuple $<S, P, R, \\gamma>$\n",
    "\n",
    "$S$: states\n",
    "\n",
    "$P$: state transition probability matrix\n",
    "\n",
    "$R$: reward function, $R_s = \\Bbb E[R_{t+1} | S_{t} = s]$\n",
    "\n",
    "$\\gamma$ is a discount factor, $\\gamma \\in [0, 1]$"
   ]
  },
  {
   "cell_type": "markdown",
   "metadata": {},
   "source": [
    "$G_t$ is the total discounted reward from time-step t."
   ]
  },
  {
   "cell_type": "markdown",
   "metadata": {},
   "source": [
    "## Value Function"
   ]
  },
  {
   "cell_type": "markdown",
   "metadata": {},
   "source": [
    "value function $v(s)$ gives long-term value fo state s\n",
    "\n",
    "$v(s)=\\Bbb E[G_t|S_t=s]$\n"
   ]
  },
  {
   "cell_type": "markdown",
   "metadata": {},
   "source": [
    "## Bellman Equation for MRPs"
   ]
  },
  {
   "cell_type": "markdown",
   "metadata": {},
   "source": [
    "$v(s) = E [R_{t+1} + \\gamma v(S_{t+1}) | S_t = s]$"
   ]
  },
  {
   "cell_type": "markdown",
   "metadata": {},
   "source": [
    "$v(s) = R_s + \\gamma \\sum_{s' \\in S} P_{ss'}v(s')$"
   ]
  },
  {
   "cell_type": "markdown",
   "metadata": {},
   "source": [
    "## Markov decision process (MDP)"
   ]
  },
  {
   "cell_type": "markdown",
   "metadata": {},
   "source": [
    "MDP = Markov Reward Process + Actions\n",
    "\n",
    "Markov Decision Process is a tuple $<S, A, P, R, \\gamma>$\n",
    "$A$: actions\n",
    "\n",
    "$P$: $P_{ss'}^a = \\Bbb P[S_{t+1}=s'|S_t=s,A_t=a]$\n",
    "\n",
    "$R$: $R_s^a = \\Bbb E[R_{t+1}|S_t=s, A_t=a]$\n"
   ]
  },
  {
   "cell_type": "markdown",
   "metadata": {},
   "source": [
    "## Policies"
   ]
  },
  {
   "cell_type": "code",
   "execution_count": null,
   "metadata": {
    "collapsed": true
   },
   "outputs": [],
   "source": []
  }
 ],
 "metadata": {
  "kernelspec": {
   "display_name": "Python 3",
   "language": "python",
   "name": "python3"
  },
  "language_info": {
   "codemirror_mode": {
    "name": "ipython",
    "version": 3
   },
   "file_extension": ".py",
   "mimetype": "text/x-python",
   "name": "python",
   "nbconvert_exporter": "python",
   "pygments_lexer": "ipython3",
   "version": "3.6.3"
  }
 },
 "nbformat": 4,
 "nbformat_minor": 2
}
